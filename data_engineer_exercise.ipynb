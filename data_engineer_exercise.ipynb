{
  "nbformat": 4,
  "nbformat_minor": 0,
  "metadata": {
    "colab": {
      "name": "data_engineer_exercise.ipynb",
      "provenance": [],
      "authorship_tag": "ABX9TyPBmsiP/5ckCa26EZfW7tt7"
    },
    "kernelspec": {
      "name": "python3",
      "display_name": "Python 3"
    },
    "language_info": {
      "name": "python"
    }
  },
  "cells": [
    {
      "cell_type": "markdown",
      "metadata": {
        "id": "-vJPypAjh02V"
      },
      "source": [
        "# Data Engineer Exercise\n"
      ]
    },
    {
      "cell_type": "markdown",
      "metadata": {
        "id": "FHo8PNIPkF3Z"
      },
      "source": [
        "## Description\n",
        "\n",
        "In the following code, I will use the three files \"cons.csv\", \"cons_email.csv\", and \"cons_email_chapter_subscriptions.csv\" to create two new files: \"people\" and \"acquisition_facts\" based on the required metrics. "
      ]
    },
    {
      "cell_type": "markdown",
      "metadata": {
        "id": "iggtQ-n2h82Q"
      },
      "source": [
        "## Packages and Data Importing"
      ]
    },
    {
      "cell_type": "code",
      "metadata": {
        "id": "lU4Nl-IYiCJL"
      },
      "source": [
        "# Packages: pandas\n",
        "import pandas as pd"
      ],
      "execution_count": 111,
      "outputs": []
    },
    {
      "cell_type": "code",
      "metadata": {
        "id": "bdx6L5VdiFP5"
      },
      "source": [
        "# Import .csv files from working directory \n",
        "\n",
        "cons = pd.read_csv(\"cons.csv\")\n",
        "cons_email = pd.read_csv(\"cons_email.csv\")\n",
        "cons_email_chapter_subscription = pd.read_csv(\n",
        "    \"cons_email_chapter_subscription.csv\")"
      ],
      "execution_count": 112,
      "outputs": []
    },
    {
      "cell_type": "code",
      "metadata": {
        "id": "Izlw5qx2ipYf",
        "colab": {
          "base_uri": "https://localhost:8080/"
        },
        "outputId": "225682ef-3398-4dce-e9fe-e25deba05f4d"
      },
      "source": [
        "# Check formatting of data \n",
        "\n",
        "print(cons.columns)\n",
        "print(cons_email.columns)\n",
        "print(cons_email_chapter_subscription.columns)"
      ],
      "execution_count": 113,
      "outputs": [
        {
          "output_type": "stream",
          "name": "stdout",
          "text": [
            "Index(['cons_id', 'prefix', 'firstname', 'middlename', 'lastname', 'suffix',\n",
            "       'salutation', 'gender', 'birth_dt', 'title', 'employer', 'occupation',\n",
            "       'income', 'source', 'subsource', 'userid', 'password', 'is_validated',\n",
            "       'is_banned', 'change_password_next_login', 'consent_type_id',\n",
            "       'create_dt', 'create_app', 'create_user', 'modified_dt', 'modified_app',\n",
            "       'modified_user', 'status', 'note'],\n",
            "      dtype='object')\n",
            "Index(['cons_email_id', 'cons_id', 'cons_email_type_id', 'is_primary', 'email',\n",
            "       'canonical_local_part', 'domain', 'double_validation', 'create_dt',\n",
            "       'create_app', 'create_user', 'modified_dt', 'modified_app',\n",
            "       'modified_user', 'status', 'note'],\n",
            "      dtype='object')\n",
            "Index(['cons_email_chapter_subscription_id', 'cons_email_id', 'chapter_id',\n",
            "       'isunsub', 'unsub_dt', 'modified_dt'],\n",
            "      dtype='object')\n"
          ]
        }
      ]
    },
    {
      "cell_type": "markdown",
      "metadata": {
        "id": "FpQHz8qrbKEq"
      },
      "source": [
        "## Task 1: \"people\" file"
      ]
    },
    {
      "cell_type": "code",
      "metadata": {
        "id": "mESR_dQejGV6"
      },
      "source": [
        "# We want \"email\" from the cons_email.csv file\n",
        "# We want \"create_dt\" and \"modified_dt\" from the cons.csv file \n",
        "# (Because we want to know when the *person's* file was created, not their email)\n",
        "# We also want \"subsource\" to create the \"code\" column\n",
        "# Finally, we want \"isunsub\" from the cons_email_chapter_subscription.csv file\n",
        "\n",
        "# Merge data frames - outer join first to not lose any data \n",
        "cons_join = cons.merge(cons_email, on = [\"cons_id\"], how = \"outer\")\n",
        "cons_join = cons_join.merge(cons_email_chapter_subscription, \n",
        "                            on = [\"cons_email_id\"], how = \"outer\")"
      ],
      "execution_count": 114,
      "outputs": []
    },
    {
      "cell_type": "code",
      "metadata": {
        "id": "8ybISKtyddl3"
      },
      "source": [
        "# Keep only primary emails \n",
        "\n",
        "cons_join = cons_join[cons_join[\"is_primary\"] == 1.0]"
      ],
      "execution_count": 115,
      "outputs": []
    },
    {
      "cell_type": "code",
      "metadata": {
        "id": "y5fhkijhg_-A"
      },
      "source": [
        "# Keep only rows where chapter_id is 1\n",
        "\n",
        "cons_join = cons_join[cons_join[\"chapter_id\"] == 1.0]"
      ],
      "execution_count": 116,
      "outputs": []
    },
    {
      "cell_type": "code",
      "metadata": {
        "colab": {
          "base_uri": "https://localhost:8080/"
        },
        "id": "avLf75jYvC0O",
        "outputId": "0c83613f-f2f0-4103-f0f9-857d3c186c17"
      },
      "source": [
        "# As indicated in the instructions, if an email has a chapter_id = 1, but does\n",
        "# not have isunsub listing, then isunsub should get 0. \n",
        "# It looks like this condition does not occur. \n",
        "\n",
        "cons_join[\"isunsub\"].isnull().values.any()"
      ],
      "execution_count": 117,
      "outputs": [
        {
          "output_type": "execute_result",
          "data": {
            "text/plain": [
              "False"
            ]
          },
          "metadata": {},
          "execution_count": 117
        }
      ]
    },
    {
      "cell_type": "code",
      "metadata": {
        "id": "qwT0SmN6hyyq"
      },
      "source": [
        "# Create people dataframe \n",
        "# The create_t and modified_dt we want are the \"x\" ones\n",
        "\n",
        "people = cons_join[[\"email\", \"source\", \"subsource\", \"isunsub\", \"create_dt_x\", \n",
        "                    \"modified_dt_x\"]].reset_index(drop = True)\n",
        "\n",
        "# Rename columns to requested\n",
        "\n",
        "people.columns = [\"email\", \"source\", \"subsource\", \"is_unsub\", \"created_dt\", \n",
        "                  \"updated_dt\"]"
      ],
      "execution_count": 118,
      "outputs": []
    },
    {
      "cell_type": "code",
      "metadata": {
        "colab": {
          "base_uri": "https://localhost:8080/",
          "height": 359
        },
        "id": "m2N_o6tsiSqy",
        "outputId": "3608c9d9-2719-4ebf-f061-b51aa94e2298"
      },
      "source": [
        "# Check if new df was created properly\n",
        "\n",
        "people.head(10)"
      ],
      "execution_count": 119,
      "outputs": [
        {
          "output_type": "execute_result",
          "data": {
            "text/html": [
              "<div>\n",
              "<style scoped>\n",
              "    .dataframe tbody tr th:only-of-type {\n",
              "        vertical-align: middle;\n",
              "    }\n",
              "\n",
              "    .dataframe tbody tr th {\n",
              "        vertical-align: top;\n",
              "    }\n",
              "\n",
              "    .dataframe thead th {\n",
              "        text-align: right;\n",
              "    }\n",
              "</style>\n",
              "<table border=\"1\" class=\"dataframe\">\n",
              "  <thead>\n",
              "    <tr style=\"text-align: right;\">\n",
              "      <th></th>\n",
              "      <th>email</th>\n",
              "      <th>source</th>\n",
              "      <th>subsource</th>\n",
              "      <th>is_unsub</th>\n",
              "      <th>created_dt</th>\n",
              "      <th>updated_dt</th>\n",
              "    </tr>\n",
              "  </thead>\n",
              "  <tbody>\n",
              "    <tr>\n",
              "      <th>0</th>\n",
              "      <td>caustin@spears-carson.com</td>\n",
              "      <td>facebook</td>\n",
              "      <td>pRzBAZSGNScwCyreCEYr</td>\n",
              "      <td>1.0</td>\n",
              "      <td>Mon, 1979-03-05 21:08:54</td>\n",
              "      <td>Tue, 1989-06-20 13:28:57</td>\n",
              "    </tr>\n",
              "    <tr>\n",
              "      <th>1</th>\n",
              "      <td>klewis@ford.biz</td>\n",
              "      <td>NaN</td>\n",
              "      <td>UAWXnALxxBXmwbPibFdw</td>\n",
              "      <td>1.0</td>\n",
              "      <td>Fri, 2008-08-22 19:20:28</td>\n",
              "      <td>Fri, 2020-06-05 18:13:57</td>\n",
              "    </tr>\n",
              "    <tr>\n",
              "      <th>2</th>\n",
              "      <td>stephenhamilton@gmail.com</td>\n",
              "      <td>NaN</td>\n",
              "      <td>NaN</td>\n",
              "      <td>1.0</td>\n",
              "      <td>Thu, 2007-07-19 18:28:09</td>\n",
              "      <td>Tue, 1971-04-27 06:53:53</td>\n",
              "    </tr>\n",
              "    <tr>\n",
              "      <th>3</th>\n",
              "      <td>norr@donovan.com</td>\n",
              "      <td>twitter</td>\n",
              "      <td>QCvUSpUScmiubTdXSlrW</td>\n",
              "      <td>1.0</td>\n",
              "      <td>Thu, 2004-11-11 02:32:27</td>\n",
              "      <td>Mon, 2018-11-05 17:26:30</td>\n",
              "    </tr>\n",
              "    <tr>\n",
              "      <th>4</th>\n",
              "      <td>christy72@yahoo.com</td>\n",
              "      <td>facebook</td>\n",
              "      <td>LacaTFsWUdBVeSMujXCW</td>\n",
              "      <td>1.0</td>\n",
              "      <td>Thu, 1984-03-29 19:14:34</td>\n",
              "      <td>Fri, 1993-12-17 12:10:30</td>\n",
              "    </tr>\n",
              "    <tr>\n",
              "      <th>5</th>\n",
              "      <td>hernandeztammy@hotmail.com</td>\n",
              "      <td>google</td>\n",
              "      <td>NaN</td>\n",
              "      <td>0.0</td>\n",
              "      <td>Fri, 2016-07-29 09:28:21</td>\n",
              "      <td>Sat, 2014-01-11 11:57:25</td>\n",
              "    </tr>\n",
              "    <tr>\n",
              "      <th>6</th>\n",
              "      <td>zward@gonzalez.com</td>\n",
              "      <td>NaN</td>\n",
              "      <td>YuHHdUkQiZnqFPmebGgF</td>\n",
              "      <td>1.0</td>\n",
              "      <td>Mon, 1995-08-21 12:52:43</td>\n",
              "      <td>Mon, 1998-09-07 22:21:38</td>\n",
              "    </tr>\n",
              "    <tr>\n",
              "      <th>7</th>\n",
              "      <td>nroberson@yahoo.com</td>\n",
              "      <td>twitter</td>\n",
              "      <td>aumjDCXAHxdMlKaQBOql</td>\n",
              "      <td>1.0</td>\n",
              "      <td>Sun, 1990-12-23 12:31:26</td>\n",
              "      <td>Tue, 2008-04-29 10:23:38</td>\n",
              "    </tr>\n",
              "    <tr>\n",
              "      <th>8</th>\n",
              "      <td>kellyspears@gmail.com</td>\n",
              "      <td>facebook</td>\n",
              "      <td>jyEgknuMTbKXWFIqugxa</td>\n",
              "      <td>0.0</td>\n",
              "      <td>Thu, 2005-11-17 16:05:17</td>\n",
              "      <td>Sat, 2013-03-23 17:57:34</td>\n",
              "    </tr>\n",
              "    <tr>\n",
              "      <th>9</th>\n",
              "      <td>rsilva@marshall-bernard.com</td>\n",
              "      <td>organic</td>\n",
              "      <td>csNTzhuKDsfvIwBBVzMy</td>\n",
              "      <td>1.0</td>\n",
              "      <td>Sat, 1980-02-09 12:57:33</td>\n",
              "      <td>Tue, 1986-10-07 18:03:07</td>\n",
              "    </tr>\n",
              "  </tbody>\n",
              "</table>\n",
              "</div>"
            ],
            "text/plain": [
              "                         email  ...                updated_dt\n",
              "0    caustin@spears-carson.com  ...  Tue, 1989-06-20 13:28:57\n",
              "1              klewis@ford.biz  ...  Fri, 2020-06-05 18:13:57\n",
              "2    stephenhamilton@gmail.com  ...  Tue, 1971-04-27 06:53:53\n",
              "3             norr@donovan.com  ...  Mon, 2018-11-05 17:26:30\n",
              "4          christy72@yahoo.com  ...  Fri, 1993-12-17 12:10:30\n",
              "5   hernandeztammy@hotmail.com  ...  Sat, 2014-01-11 11:57:25\n",
              "6           zward@gonzalez.com  ...  Mon, 1998-09-07 22:21:38\n",
              "7          nroberson@yahoo.com  ...  Tue, 2008-04-29 10:23:38\n",
              "8        kellyspears@gmail.com  ...  Sat, 2013-03-23 17:57:34\n",
              "9  rsilva@marshall-bernard.com  ...  Tue, 1986-10-07 18:03:07\n",
              "\n",
              "[10 rows x 6 columns]"
            ]
          },
          "metadata": {},
          "execution_count": 119
        }
      ]
    },
    {
      "cell_type": "code",
      "metadata": {
        "colab": {
          "base_uri": "https://localhost:8080/"
        },
        "id": "FOdJ3SmtjbpI",
        "outputId": "4e481006-3007-4e07-dbcf-3301b66c26f0"
      },
      "source": [
        "# Check on datatypes of new df \n",
        "\n",
        "people.dtypes"
      ],
      "execution_count": 120,
      "outputs": [
        {
          "output_type": "execute_result",
          "data": {
            "text/plain": [
              "email          object\n",
              "source         object\n",
              "subsource      object\n",
              "is_unsub      float64\n",
              "created_dt     object\n",
              "updated_dt     object\n",
              "dtype: object"
            ]
          },
          "metadata": {},
          "execution_count": 120
        }
      ]
    },
    {
      "cell_type": "code",
      "metadata": {
        "id": "EvYfH5yLf2Hl"
      },
      "source": [
        "# Fix NaN's so they can be used as strings\n",
        "\n",
        "people[\"source\"] = people[\"source\"].fillna(\"NA\")\n",
        "people[\"subsource\"] = people[\"subsource\"].fillna(\"NA\")"
      ],
      "execution_count": 121,
      "outputs": []
    },
    {
      "cell_type": "code",
      "metadata": {
        "id": "e4BR4aqXkMfU"
      },
      "source": [
        "# Change datatypes to requested \n",
        "\n",
        "people[\"email\"] = people[\"email\"].astype(\"string\")\n",
        "people[\"source\"] = people[\"source\"].astype(\"string\")\n",
        "people[\"subsource\"] = people[\"subsource\"].astype(\"string\")\n",
        "people[\"is_unsub\"] = people[\"is_unsub\"].astype(\"bool\")\n",
        "people[\"created_dt\"] = pd.to_datetime(people[\"created_dt\"])\n",
        "people[\"updated_dt\"] = pd.to_datetime(people[\"updated_dt\"])"
      ],
      "execution_count": 122,
      "outputs": []
    },
    {
      "cell_type": "code",
      "metadata": {
        "id": "ohqkpYbseZpz"
      },
      "source": [
        "# Create a code column that contains source and subsource\n",
        "\n",
        "people[\"code\"] = people[\"source\"] + \": \" + people[\"subsource\"]\n",
        "people = people[[\"email\", \"code\", \"is_unsub\", \"created_dt\", \"updated_dt\"]]\n",
        "people[\"code\"][people[\"code\"] == \"NA: NA\"] = \"NA\""
      ],
      "execution_count": 123,
      "outputs": []
    },
    {
      "cell_type": "code",
      "metadata": {
        "colab": {
          "base_uri": "https://localhost:8080/"
        },
        "id": "pXIoTdGKk7Kk",
        "outputId": "14e64f31-b835-48e3-9cc2-3abc0b921dab"
      },
      "source": [
        "# Check datatypes again\n",
        "\n",
        "people.dtypes"
      ],
      "execution_count": 124,
      "outputs": [
        {
          "output_type": "execute_result",
          "data": {
            "text/plain": [
              "email                 string\n",
              "code                  string\n",
              "is_unsub                bool\n",
              "created_dt    datetime64[ns]\n",
              "updated_dt    datetime64[ns]\n",
              "dtype: object"
            ]
          },
          "metadata": {},
          "execution_count": 124
        }
      ]
    },
    {
      "cell_type": "code",
      "metadata": {
        "colab": {
          "base_uri": "https://localhost:8080/",
          "height": 359
        },
        "id": "l8oYOx9drKVE",
        "outputId": "88efb902-a7c1-491c-b159-c809913982c0"
      },
      "source": [
        "# Look at data frame again \n",
        "\n",
        "people.head(10)"
      ],
      "execution_count": 125,
      "outputs": [
        {
          "output_type": "execute_result",
          "data": {
            "text/html": [
              "<div>\n",
              "<style scoped>\n",
              "    .dataframe tbody tr th:only-of-type {\n",
              "        vertical-align: middle;\n",
              "    }\n",
              "\n",
              "    .dataframe tbody tr th {\n",
              "        vertical-align: top;\n",
              "    }\n",
              "\n",
              "    .dataframe thead th {\n",
              "        text-align: right;\n",
              "    }\n",
              "</style>\n",
              "<table border=\"1\" class=\"dataframe\">\n",
              "  <thead>\n",
              "    <tr style=\"text-align: right;\">\n",
              "      <th></th>\n",
              "      <th>email</th>\n",
              "      <th>code</th>\n",
              "      <th>is_unsub</th>\n",
              "      <th>created_dt</th>\n",
              "      <th>updated_dt</th>\n",
              "    </tr>\n",
              "  </thead>\n",
              "  <tbody>\n",
              "    <tr>\n",
              "      <th>0</th>\n",
              "      <td>caustin@spears-carson.com</td>\n",
              "      <td>facebook: pRzBAZSGNScwCyreCEYr</td>\n",
              "      <td>True</td>\n",
              "      <td>1979-03-05 21:08:54</td>\n",
              "      <td>1989-06-20 13:28:57</td>\n",
              "    </tr>\n",
              "    <tr>\n",
              "      <th>1</th>\n",
              "      <td>klewis@ford.biz</td>\n",
              "      <td>NA: UAWXnALxxBXmwbPibFdw</td>\n",
              "      <td>True</td>\n",
              "      <td>2008-08-22 19:20:28</td>\n",
              "      <td>2020-06-05 18:13:57</td>\n",
              "    </tr>\n",
              "    <tr>\n",
              "      <th>2</th>\n",
              "      <td>stephenhamilton@gmail.com</td>\n",
              "      <td>NA</td>\n",
              "      <td>True</td>\n",
              "      <td>2007-07-19 18:28:09</td>\n",
              "      <td>1971-04-27 06:53:53</td>\n",
              "    </tr>\n",
              "    <tr>\n",
              "      <th>3</th>\n",
              "      <td>norr@donovan.com</td>\n",
              "      <td>twitter: QCvUSpUScmiubTdXSlrW</td>\n",
              "      <td>True</td>\n",
              "      <td>2004-11-11 02:32:27</td>\n",
              "      <td>2018-11-05 17:26:30</td>\n",
              "    </tr>\n",
              "    <tr>\n",
              "      <th>4</th>\n",
              "      <td>christy72@yahoo.com</td>\n",
              "      <td>facebook: LacaTFsWUdBVeSMujXCW</td>\n",
              "      <td>True</td>\n",
              "      <td>1984-03-29 19:14:34</td>\n",
              "      <td>1993-12-17 12:10:30</td>\n",
              "    </tr>\n",
              "    <tr>\n",
              "      <th>5</th>\n",
              "      <td>hernandeztammy@hotmail.com</td>\n",
              "      <td>google: NA</td>\n",
              "      <td>False</td>\n",
              "      <td>2016-07-29 09:28:21</td>\n",
              "      <td>2014-01-11 11:57:25</td>\n",
              "    </tr>\n",
              "    <tr>\n",
              "      <th>6</th>\n",
              "      <td>zward@gonzalez.com</td>\n",
              "      <td>NA: YuHHdUkQiZnqFPmebGgF</td>\n",
              "      <td>True</td>\n",
              "      <td>1995-08-21 12:52:43</td>\n",
              "      <td>1998-09-07 22:21:38</td>\n",
              "    </tr>\n",
              "    <tr>\n",
              "      <th>7</th>\n",
              "      <td>nroberson@yahoo.com</td>\n",
              "      <td>twitter: aumjDCXAHxdMlKaQBOql</td>\n",
              "      <td>True</td>\n",
              "      <td>1990-12-23 12:31:26</td>\n",
              "      <td>2008-04-29 10:23:38</td>\n",
              "    </tr>\n",
              "    <tr>\n",
              "      <th>8</th>\n",
              "      <td>kellyspears@gmail.com</td>\n",
              "      <td>facebook: jyEgknuMTbKXWFIqugxa</td>\n",
              "      <td>False</td>\n",
              "      <td>2005-11-17 16:05:17</td>\n",
              "      <td>2013-03-23 17:57:34</td>\n",
              "    </tr>\n",
              "    <tr>\n",
              "      <th>9</th>\n",
              "      <td>rsilva@marshall-bernard.com</td>\n",
              "      <td>organic: csNTzhuKDsfvIwBBVzMy</td>\n",
              "      <td>True</td>\n",
              "      <td>1980-02-09 12:57:33</td>\n",
              "      <td>1986-10-07 18:03:07</td>\n",
              "    </tr>\n",
              "  </tbody>\n",
              "</table>\n",
              "</div>"
            ],
            "text/plain": [
              "                         email  ...          updated_dt\n",
              "0    caustin@spears-carson.com  ... 1989-06-20 13:28:57\n",
              "1              klewis@ford.biz  ... 2020-06-05 18:13:57\n",
              "2    stephenhamilton@gmail.com  ... 1971-04-27 06:53:53\n",
              "3             norr@donovan.com  ... 2018-11-05 17:26:30\n",
              "4          christy72@yahoo.com  ... 1993-12-17 12:10:30\n",
              "5   hernandeztammy@hotmail.com  ... 2014-01-11 11:57:25\n",
              "6           zward@gonzalez.com  ... 1998-09-07 22:21:38\n",
              "7          nroberson@yahoo.com  ... 2008-04-29 10:23:38\n",
              "8        kellyspears@gmail.com  ... 2013-03-23 17:57:34\n",
              "9  rsilva@marshall-bernard.com  ... 1986-10-07 18:03:07\n",
              "\n",
              "[10 rows x 5 columns]"
            ]
          },
          "metadata": {},
          "execution_count": 125
        }
      ]
    },
    {
      "cell_type": "code",
      "metadata": {
        "id": "o_uNyoM4lofq"
      },
      "source": [
        "# Save df to working directory \n",
        "\n",
        "people.to_csv(\"people.csv\")"
      ],
      "execution_count": 126,
      "outputs": []
    },
    {
      "cell_type": "markdown",
      "metadata": {
        "id": "s5bIkfmJmhLW"
      },
      "source": [
        "## Task 2: \"acquisition_facts\" file "
      ]
    },
    {
      "cell_type": "code",
      "metadata": {
        "id": "OUk88xpOmnae"
      },
      "source": [
        "# Get dates from datetime column\n",
        "\n",
        "acquisition_dates = people[\"created_dt\"].dt.date"
      ],
      "execution_count": 127,
      "outputs": []
    },
    {
      "cell_type": "code",
      "metadata": {
        "id": "Uw-WZ98nn-CZ"
      },
      "source": [
        "# Create df\n",
        "\n",
        "acquisition_facts = pd.value_counts(acquisition_dates).to_frame().reset_index()"
      ],
      "execution_count": 128,
      "outputs": []
    },
    {
      "cell_type": "code",
      "metadata": {
        "id": "6Nh4q1LbogpH"
      },
      "source": [
        "# Rename columns\n",
        "\n",
        "acquisition_facts.columns = [\"acquisition_date\", \"acquisitions\"]"
      ],
      "execution_count": 129,
      "outputs": []
    },
    {
      "cell_type": "code",
      "metadata": {
        "id": "2kH8RZ6hpVGJ"
      },
      "source": [
        "# Sort by date \n",
        "\n",
        "acquisition_facts = acquisition_facts.sort_values(\n",
        "    by = \"acquisition_date\", ascending = False).reset_index(drop = True)"
      ],
      "execution_count": 130,
      "outputs": []
    },
    {
      "cell_type": "code",
      "metadata": {
        "colab": {
          "base_uri": "https://localhost:8080/",
          "height": 359
        },
        "id": "dGd6Ahfnq3m_",
        "outputId": "dabd7f4f-eb25-40cc-cb5d-0ce57b1eed27"
      },
      "source": [
        "# Check to see if dataframe was created properly \n",
        "\n",
        "acquisition_facts.head(10)"
      ],
      "execution_count": 131,
      "outputs": [
        {
          "output_type": "execute_result",
          "data": {
            "text/html": [
              "<div>\n",
              "<style scoped>\n",
              "    .dataframe tbody tr th:only-of-type {\n",
              "        vertical-align: middle;\n",
              "    }\n",
              "\n",
              "    .dataframe tbody tr th {\n",
              "        vertical-align: top;\n",
              "    }\n",
              "\n",
              "    .dataframe thead th {\n",
              "        text-align: right;\n",
              "    }\n",
              "</style>\n",
              "<table border=\"1\" class=\"dataframe\">\n",
              "  <thead>\n",
              "    <tr style=\"text-align: right;\">\n",
              "      <th></th>\n",
              "      <th>acquisition_date</th>\n",
              "      <th>acquisitions</th>\n",
              "    </tr>\n",
              "  </thead>\n",
              "  <tbody>\n",
              "    <tr>\n",
              "      <th>0</th>\n",
              "      <td>2020-07-01</td>\n",
              "      <td>8</td>\n",
              "    </tr>\n",
              "    <tr>\n",
              "      <th>1</th>\n",
              "      <td>2020-06-30</td>\n",
              "      <td>11</td>\n",
              "    </tr>\n",
              "    <tr>\n",
              "      <th>2</th>\n",
              "      <td>2020-06-29</td>\n",
              "      <td>11</td>\n",
              "    </tr>\n",
              "    <tr>\n",
              "      <th>3</th>\n",
              "      <td>2020-06-28</td>\n",
              "      <td>11</td>\n",
              "    </tr>\n",
              "    <tr>\n",
              "      <th>4</th>\n",
              "      <td>2020-06-27</td>\n",
              "      <td>7</td>\n",
              "    </tr>\n",
              "    <tr>\n",
              "      <th>5</th>\n",
              "      <td>2020-06-26</td>\n",
              "      <td>11</td>\n",
              "    </tr>\n",
              "    <tr>\n",
              "      <th>6</th>\n",
              "      <td>2020-06-25</td>\n",
              "      <td>11</td>\n",
              "    </tr>\n",
              "    <tr>\n",
              "      <th>7</th>\n",
              "      <td>2020-06-24</td>\n",
              "      <td>14</td>\n",
              "    </tr>\n",
              "    <tr>\n",
              "      <th>8</th>\n",
              "      <td>2020-06-23</td>\n",
              "      <td>12</td>\n",
              "    </tr>\n",
              "    <tr>\n",
              "      <th>9</th>\n",
              "      <td>2020-06-22</td>\n",
              "      <td>15</td>\n",
              "    </tr>\n",
              "  </tbody>\n",
              "</table>\n",
              "</div>"
            ],
            "text/plain": [
              "  acquisition_date  acquisitions\n",
              "0       2020-07-01             8\n",
              "1       2020-06-30            11\n",
              "2       2020-06-29            11\n",
              "3       2020-06-28            11\n",
              "4       2020-06-27             7\n",
              "5       2020-06-26            11\n",
              "6       2020-06-25            11\n",
              "7       2020-06-24            14\n",
              "8       2020-06-23            12\n",
              "9       2020-06-22            15"
            ]
          },
          "metadata": {},
          "execution_count": 131
        }
      ]
    },
    {
      "cell_type": "code",
      "metadata": {
        "colab": {
          "base_uri": "https://localhost:8080/"
        },
        "id": "Z8ByQvhMqXRa",
        "outputId": "bf8dfd60-0fa5-4c6c-c48a-7b8527a40733"
      },
      "source": [
        "# Check datatypes\n",
        "\n",
        "acquisition_facts.dtypes"
      ],
      "execution_count": 132,
      "outputs": [
        {
          "output_type": "execute_result",
          "data": {
            "text/plain": [
              "acquisition_date    object\n",
              "acquisitions         int64\n",
              "dtype: object"
            ]
          },
          "metadata": {},
          "execution_count": 132
        }
      ]
    },
    {
      "cell_type": "code",
      "metadata": {
        "id": "OHKtegRYqlny"
      },
      "source": [
        "# Change datatypes to match requested\n",
        "# Change date column to date  \n",
        "\n",
        "acquisition_facts[\"acquisition_date\"] = pd.to_datetime(\n",
        "    acquisition_facts[\"acquisition_date\"]).dt.normalize()"
      ],
      "execution_count": 133,
      "outputs": []
    },
    {
      "cell_type": "code",
      "metadata": {
        "colab": {
          "base_uri": "https://localhost:8080/"
        },
        "id": "7cz-J-orrk8F",
        "outputId": "b9739db8-e770-4627-ab86-73ea01ff82f1"
      },
      "source": [
        "# Check datatypes again\n",
        "\n",
        "acquisition_facts.dtypes"
      ],
      "execution_count": 134,
      "outputs": [
        {
          "output_type": "execute_result",
          "data": {
            "text/plain": [
              "acquisition_date    datetime64[ns]\n",
              "acquisitions                 int64\n",
              "dtype: object"
            ]
          },
          "metadata": {},
          "execution_count": 134
        }
      ]
    },
    {
      "cell_type": "code",
      "metadata": {
        "id": "y8_lheBzpeRV"
      },
      "source": [
        "# Save to working directory \n",
        "\n",
        "acquisition_facts.to_csv(\"acquisition_facts.csv\")"
      ],
      "execution_count": 135,
      "outputs": []
    }
  ]
}